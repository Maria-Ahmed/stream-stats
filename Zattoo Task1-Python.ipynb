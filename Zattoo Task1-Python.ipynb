{
 "cells": [
  {
   "cell_type": "code",
   "execution_count": 26,
   "id": "019eb66c",
   "metadata": {},
   "outputs": [
    {
     "data": {
      "text/html": [
       "<div>\n",
       "<style scoped>\n",
       "    .dataframe tbody tr th:only-of-type {\n",
       "        vertical-align: middle;\n",
       "    }\n",
       "\n",
       "    .dataframe tbody tr th {\n",
       "        vertical-align: top;\n",
       "    }\n",
       "\n",
       "    .dataframe thead th {\n",
       "        text-align: right;\n",
       "    }\n",
       "</style>\n",
       "<table border=\"1\" class=\"dataframe\">\n",
       "  <thead>\n",
       "    <tr style=\"text-align: right;\">\n",
       "      <th></th>\n",
       "      <th>event_name</th>\n",
       "      <th>user_id</th>\n",
       "      <th>app_version</th>\n",
       "      <th>event_time</th>\n",
       "      <th>device_id</th>\n",
       "      <th>client</th>\n",
       "    </tr>\n",
       "  </thead>\n",
       "  <tbody>\n",
       "    <tr>\n",
       "      <th>0</th>\n",
       "      <td>STREAM_RECEIVED</td>\n",
       "      <td>9c0bc3ee66ff78a1c29d1732b0b8bac1a3829cfb2378b2...</td>\n",
       "      <td>3.2302.0</td>\n",
       "      <td>2023-02-01 09:38:43.955 UTC</td>\n",
       "      <td>2692debd34281a4fb39b98d56a8c1105511941eb94a534...</td>\n",
       "      <td>web</td>\n",
       "    </tr>\n",
       "    <tr>\n",
       "      <th>1</th>\n",
       "      <td>STREAM_REQUEST</td>\n",
       "      <td>9c0bc3ee66ff78a1c29d1732b0b8bac1a3829cfb2378b2...</td>\n",
       "      <td>3.2302.0</td>\n",
       "      <td>2023-01-31 09:44:53.132 UTC</td>\n",
       "      <td>2692debd34281a4fb39b98d56a8c1105511941eb94a534...</td>\n",
       "      <td>web</td>\n",
       "    </tr>\n",
       "    <tr>\n",
       "      <th>2</th>\n",
       "      <td>STREAM_REQUEST</td>\n",
       "      <td>9c0bc3ee66ff78a1c29d1732b0b8bac1a3829cfb2378b2...</td>\n",
       "      <td>3.2302.0</td>\n",
       "      <td>2023-01-31 09:40:30.742 UTC</td>\n",
       "      <td>2692debd34281a4fb39b98d56a8c1105511941eb94a534...</td>\n",
       "      <td>web</td>\n",
       "    </tr>\n",
       "    <tr>\n",
       "      <th>3</th>\n",
       "      <td>STREAM_REQUEST</td>\n",
       "      <td>9c0bc3ee66ff78a1c29d1732b0b8bac1a3829cfb2378b2...</td>\n",
       "      <td>3.2302.0</td>\n",
       "      <td>2023-01-31 09:30:03.612 UTC</td>\n",
       "      <td>2692debd34281a4fb39b98d56a8c1105511941eb94a534...</td>\n",
       "      <td>web</td>\n",
       "    </tr>\n",
       "    <tr>\n",
       "      <th>4</th>\n",
       "      <td>STREAM_REQUEST</td>\n",
       "      <td>9c0bc3ee66ff78a1c29d1732b0b8bac1a3829cfb2378b2...</td>\n",
       "      <td>3.2302.0</td>\n",
       "      <td>2023-01-31 12:29:38.506 UTC</td>\n",
       "      <td>2692debd34281a4fb39b98d56a8c1105511941eb94a534...</td>\n",
       "      <td>web</td>\n",
       "    </tr>\n",
       "  </tbody>\n",
       "</table>\n",
       "</div>"
      ],
      "text/plain": [
       "        event_name                                            user_id  \\\n",
       "0  STREAM_RECEIVED  9c0bc3ee66ff78a1c29d1732b0b8bac1a3829cfb2378b2...   \n",
       "1   STREAM_REQUEST  9c0bc3ee66ff78a1c29d1732b0b8bac1a3829cfb2378b2...   \n",
       "2   STREAM_REQUEST  9c0bc3ee66ff78a1c29d1732b0b8bac1a3829cfb2378b2...   \n",
       "3   STREAM_REQUEST  9c0bc3ee66ff78a1c29d1732b0b8bac1a3829cfb2378b2...   \n",
       "4   STREAM_REQUEST  9c0bc3ee66ff78a1c29d1732b0b8bac1a3829cfb2378b2...   \n",
       "\n",
       "  app_version                   event_time  \\\n",
       "0    3.2302.0  2023-02-01 09:38:43.955 UTC   \n",
       "1    3.2302.0  2023-01-31 09:44:53.132 UTC   \n",
       "2    3.2302.0  2023-01-31 09:40:30.742 UTC   \n",
       "3    3.2302.0  2023-01-31 09:30:03.612 UTC   \n",
       "4    3.2302.0  2023-01-31 12:29:38.506 UTC   \n",
       "\n",
       "                                           device_id client  \n",
       "0  2692debd34281a4fb39b98d56a8c1105511941eb94a534...    web  \n",
       "1  2692debd34281a4fb39b98d56a8c1105511941eb94a534...    web  \n",
       "2  2692debd34281a4fb39b98d56a8c1105511941eb94a534...    web  \n",
       "3  2692debd34281a4fb39b98d56a8c1105511941eb94a534...    web  \n",
       "4  2692debd34281a4fb39b98d56a8c1105511941eb94a534...    web  "
      ]
     },
     "execution_count": 26,
     "metadata": {},
     "output_type": "execute_result"
    }
   ],
   "source": [
    "import pandas as pd\n",
    "import matplotlib.pyplot as plt\n",
    "import seaborn as sns\n",
    "\n",
    "df = pd.read_csv('hiring_assignment_pa_dataset_020223.csv')\n",
    "\n",
    "df.head()"
   ]
  },
  {
   "cell_type": "markdown",
   "id": "f62ec3c4",
   "metadata": {},
   "source": [
    "Questions\n",
    "1. On which day did we observe the most activity?\n",
    "2. How would you define a session?\n",
    "3. What is the highest number of events observed in a session?\n",
    "4. What is the average session duration?"
   ]
  },
  {
   "cell_type": "code",
   "execution_count": 4,
   "id": "0cc55bcc",
   "metadata": {},
   "outputs": [
    {
     "data": {
      "text/plain": [
       "(16099, 6)"
      ]
     },
     "execution_count": 4,
     "metadata": {},
     "output_type": "execute_result"
    }
   ],
   "source": [
    "df.shape\n"
   ]
  },
  {
   "cell_type": "code",
   "execution_count": 5,
   "id": "de118c7a",
   "metadata": {},
   "outputs": [
    {
     "data": {
      "text/html": [
       "<div>\n",
       "<style scoped>\n",
       "    .dataframe tbody tr th:only-of-type {\n",
       "        vertical-align: middle;\n",
       "    }\n",
       "\n",
       "    .dataframe tbody tr th {\n",
       "        vertical-align: top;\n",
       "    }\n",
       "\n",
       "    .dataframe thead th {\n",
       "        text-align: right;\n",
       "    }\n",
       "</style>\n",
       "<table border=\"1\" class=\"dataframe\">\n",
       "  <thead>\n",
       "    <tr style=\"text-align: right;\">\n",
       "      <th></th>\n",
       "      <th>event_name</th>\n",
       "      <th>user_id</th>\n",
       "      <th>app_version</th>\n",
       "      <th>event_time</th>\n",
       "      <th>device_id</th>\n",
       "      <th>client</th>\n",
       "    </tr>\n",
       "  </thead>\n",
       "  <tbody>\n",
       "    <tr>\n",
       "      <th>count</th>\n",
       "      <td>16099</td>\n",
       "      <td>16099</td>\n",
       "      <td>16099</td>\n",
       "      <td>16099</td>\n",
       "      <td>16099</td>\n",
       "      <td>16099</td>\n",
       "    </tr>\n",
       "    <tr>\n",
       "      <th>unique</th>\n",
       "      <td>12</td>\n",
       "      <td>6</td>\n",
       "      <td>2</td>\n",
       "      <td>13900</td>\n",
       "      <td>6</td>\n",
       "      <td>1</td>\n",
       "    </tr>\n",
       "    <tr>\n",
       "      <th>top</th>\n",
       "      <td>STREAM_REQUEST</td>\n",
       "      <td>b365a66a3ac91665d3f4c129b3d6e67a5a669ef9bf3704...</td>\n",
       "      <td>3.2302.0</td>\n",
       "      <td>2023-02-01 16:06:00.01 UTC</td>\n",
       "      <td>2de06634695ca07e29931d304785b6de68a69f454e12b4...</td>\n",
       "      <td>web</td>\n",
       "    </tr>\n",
       "    <tr>\n",
       "      <th>freq</th>\n",
       "      <td>5120</td>\n",
       "      <td>4529</td>\n",
       "      <td>10949</td>\n",
       "      <td>2</td>\n",
       "      <td>4529</td>\n",
       "      <td>16099</td>\n",
       "    </tr>\n",
       "  </tbody>\n",
       "</table>\n",
       "</div>"
      ],
      "text/plain": [
       "            event_name                                            user_id  \\\n",
       "count            16099                                              16099   \n",
       "unique              12                                                  6   \n",
       "top     STREAM_REQUEST  b365a66a3ac91665d3f4c129b3d6e67a5a669ef9bf3704...   \n",
       "freq              5120                                               4529   \n",
       "\n",
       "       app_version                  event_time  \\\n",
       "count        16099                       16099   \n",
       "unique           2                       13900   \n",
       "top       3.2302.0  2023-02-01 16:06:00.01 UTC   \n",
       "freq         10949                           2   \n",
       "\n",
       "                                                device_id client  \n",
       "count                                               16099  16099  \n",
       "unique                                                  6      1  \n",
       "top     2de06634695ca07e29931d304785b6de68a69f454e12b4...    web  \n",
       "freq                                                 4529  16099  "
      ]
     },
     "execution_count": 5,
     "metadata": {},
     "output_type": "execute_result"
    }
   ],
   "source": [
    "df.describe()\n"
   ]
  },
  {
   "cell_type": "code",
   "execution_count": 6,
   "id": "8a7aea9b",
   "metadata": {},
   "outputs": [
    {
     "name": "stdout",
     "output_type": "stream",
     "text": [
      "<class 'pandas.core.frame.DataFrame'>\n",
      "RangeIndex: 16099 entries, 0 to 16098\n",
      "Data columns (total 6 columns):\n",
      " #   Column       Non-Null Count  Dtype \n",
      "---  ------       --------------  ----- \n",
      " 0   event_name   16099 non-null  object\n",
      " 1   user_id      16099 non-null  object\n",
      " 2   app_version  16099 non-null  object\n",
      " 3   event_time   16099 non-null  object\n",
      " 4   device_id    16099 non-null  object\n",
      " 5   client       16099 non-null  object\n",
      "dtypes: object(6)\n",
      "memory usage: 754.8+ KB\n"
     ]
    }
   ],
   "source": [
    "df.info()\n"
   ]
  },
  {
   "cell_type": "code",
   "execution_count": 27,
   "id": "a955598e",
   "metadata": {},
   "outputs": [
    {
     "data": {
      "text/plain": [
       "0       2023-02-01 09:38:43.955000+00:00\n",
       "1       2023-01-31 09:44:53.132000+00:00\n",
       "2       2023-01-31 09:40:30.742000+00:00\n",
       "3       2023-01-31 09:30:03.612000+00:00\n",
       "4       2023-01-31 12:29:38.506000+00:00\n",
       "                      ...               \n",
       "16094   2023-02-01 20:32:38.836000+00:00\n",
       "16095   2023-02-01 14:01:26.416000+00:00\n",
       "16096   2023-02-01 11:11:23.879000+00:00\n",
       "16097   2023-02-01 14:01:46.109000+00:00\n",
       "16098   2023-02-01 20:30:16.964000+00:00\n",
       "Name: event_time, Length: 16099, dtype: datetime64[ns, UTC]"
      ]
     },
     "execution_count": 27,
     "metadata": {},
     "output_type": "execute_result"
    }
   ],
   "source": [
    "# Convert event_time to datetime\n",
    "df['event_time'] = pd.to_datetime(df['event_time'])\n",
    "df['event_time']"
   ]
  },
  {
   "cell_type": "code",
   "execution_count": 28,
   "id": "7e02e66c",
   "metadata": {},
   "outputs": [
    {
     "name": "stdout",
     "output_type": "stream",
     "text": [
      "The day with the most activity is 2023-02-01 with 10651 events.\n"
     ]
    }
   ],
   "source": [
    "# Question 1: day with the most activity?\n",
    "df['event_date'] = df['event_time'].dt.date\n",
    "\n",
    "events_per_day = df['event_date'].value_counts()\n",
    "\n",
    "most_active_day = events_per_day.idxmax()\n",
    "\n",
    "most_active_day_count = events_per_day.max()\n",
    "\n",
    "print(f\"The day with the most activity is {most_active_day} with {most_active_day_count} events.\")\n"
   ]
  },
  {
   "cell_type": "markdown",
   "id": "cb37015b",
   "metadata": {},
   "source": [
    "A session can be like series of events by the same user with no more than 30 minutes between consecutive events. \n",
    "\n",
    "so for eg: (If there's a gap of more than 30 minutes between events, it starts a new session)\n",
    "ps: the time can vary depending on the use-case, but I think 30mins is a fair enough time to end the session if there is no activity(or events)"
   ]
  },
  {
   "cell_type": "code",
   "execution_count": 31,
   "id": "b9a9f724",
   "metadata": {},
   "outputs": [
    {
     "name": "stdout",
     "output_type": "stream",
     "text": [
      "            event_name                                            user_id  \\\n",
      "944     STREAM_REQUEST  3a9816578e77860c9952c8f73fd1a122d997e03d5a630f...   \n",
      "7398   STREAM_RECEIVED  3a9816578e77860c9952c8f73fd1a122d997e03d5a630f...   \n",
      "13783   STREAM_REQUEST  3a9816578e77860c9952c8f73fd1a122d997e03d5a630f...   \n",
      "900    STREAM_RECEIVED  3a9816578e77860c9952c8f73fd1a122d997e03d5a630f...   \n",
      "7259    STREAM_REQUEST  3a9816578e77860c9952c8f73fd1a122d997e03d5a630f...   \n",
      "\n",
      "      app_version                       event_time  \\\n",
      "944      3.2302.0 2023-01-31 00:15:42.766000+00:00   \n",
      "7398     3.2302.0 2023-01-31 00:15:43.072000+00:00   \n",
      "13783    3.2302.0 2023-01-31 00:15:46.236000+00:00   \n",
      "900      3.2302.0 2023-01-31 00:15:46.513000+00:00   \n",
      "7259     3.2302.0 2023-01-31 00:15:51.592000+00:00   \n",
      "\n",
      "                                               device_id client  event_date  \\\n",
      "944    57e0fd9d2ffa4663e45aa2d0f4b6a276afc2f69a6d3ddb...    web  2023-01-31   \n",
      "7398   57e0fd9d2ffa4663e45aa2d0f4b6a276afc2f69a6d3ddb...    web  2023-01-31   \n",
      "13783  57e0fd9d2ffa4663e45aa2d0f4b6a276afc2f69a6d3ddb...    web  2023-01-31   \n",
      "900    57e0fd9d2ffa4663e45aa2d0f4b6a276afc2f69a6d3ddb...    web  2023-01-31   \n",
      "7259   57e0fd9d2ffa4663e45aa2d0f4b6a276afc2f69a6d3ddb...    web  2023-01-31   \n",
      "\n",
      "                   time_diff  new_session  session_id  \n",
      "944                      NaT         True           1  \n",
      "7398  0 days 00:00:00.306000        False           1  \n",
      "13783 0 days 00:00:03.164000        False           1  \n",
      "900   0 days 00:00:00.277000        False           1  \n",
      "7259  0 days 00:00:05.079000        False           1  \n"
     ]
    }
   ],
   "source": [
    "# Question 2: defining a sample session\n",
    "\n",
    "df = df.sort_values(by=['user_id', 'event_time'])\n",
    "\n",
    "\n",
    "df['time_diff'] = df.groupby('user_id')['event_time'].diff()\n",
    "\n",
    "\n",
    "session_threshold = pd.Timedelta(minutes=30)\n",
    "df['new_session'] = (df['time_diff'] > session_threshold) | df['time_diff'].isna()\n",
    "\n",
    "\n",
    "df['session_id'] = df.groupby('user_id')['new_session'].cumsum()\n",
    "\n",
    "\n",
    "print(df.head())\n"
   ]
  },
  {
   "cell_type": "code",
   "execution_count": 32,
   "id": "6ecf5fd1",
   "metadata": {},
   "outputs": [
    {
     "name": "stdout",
     "output_type": "stream",
     "text": [
      "The highest number of events observed in a session is 4082.\n"
     ]
    }
   ],
   "source": [
    "# Question 3:  highest number of events observed in a session?\n",
    "\n",
    "events_per_session = df.groupby('session_id').size()\n",
    "\n",
    "\n",
    "max_events_in_session = events_per_session.max()\n",
    "\n",
    "print(f\"The highest number of events observed in a session is {max_events_in_session}.\")\n"
   ]
  },
  {
   "cell_type": "code",
   "execution_count": 33,
   "id": "65aa85a8",
   "metadata": {},
   "outputs": [
    {
     "name": "stdout",
     "output_type": "stream",
     "text": [
      "The average session duration is 1212.45 minutes.\n"
     ]
    }
   ],
   "source": [
    "# Question 4 - average session duration?\n",
    "\n",
    "\n",
    "session_duration = df.groupby('session_id')['event_time'].agg(['min', 'max'])\n",
    "\n",
    "session_duration['duration'] = (session_duration['max'] - session_duration['min']).dt.total_seconds()\n",
    "\n",
    "\n",
    "average_session_duration = session_duration['duration'].mean()\n",
    "\n",
    "\n",
    "print(f\"The average session duration is {average_session_duration / 60:.2f} minutes.\")"
   ]
  },
  {
   "cell_type": "code",
   "execution_count": null,
   "id": "4e3006f2",
   "metadata": {},
   "outputs": [],
   "source": []
  }
 ],
 "metadata": {
  "kernelspec": {
   "display_name": "Python 3 (ipykernel)",
   "language": "python",
   "name": "python3"
  },
  "language_info": {
   "codemirror_mode": {
    "name": "ipython",
    "version": 3
   },
   "file_extension": ".py",
   "mimetype": "text/x-python",
   "name": "python",
   "nbconvert_exporter": "python",
   "pygments_lexer": "ipython3",
   "version": "3.9.13"
  }
 },
 "nbformat": 4,
 "nbformat_minor": 5
}
